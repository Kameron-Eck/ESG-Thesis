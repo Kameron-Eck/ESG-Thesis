{
 "cells": [
  {
   "cell_type": "code",
   "execution_count": 72,
   "id": "5c8e67e0-58c6-4bc8-b8b9-a7cd1ae6b9b1",
   "metadata": {},
   "outputs": [
    {
     "data": {
      "text/html": [
       "<div><style>\n",
       ".dataframe > thead > tr,\n",
       ".dataframe > tbody > tr {\n",
       "  text-align: right;\n",
       "  white-space: pre-wrap;\n",
       "}\n",
       "</style>\n",
       "<small>shape: (66_122_638, 23)</small><table border=\"1\" class=\"dataframe\"><thead><tr><th>Cyle</th><th>FECTransID</th><th>ContribID</th><th>Contrib</th><th>RecipID</th><th>Orgname</th><th>UltOrg</th><th>RealCode</th><th>Date</th><th>Amount</th><th>Street</th><th>City</th><th>State</th><th>Zip</th><th>RecipCode</th><th>Type</th><th>CmteID</th><th>OtherID</th><th>Gender</th><th>Microfilm</th><th>Occupation</th><th>Employer</th><th>Source</th></tr><tr><td>str</td><td>str</td><td>str</td><td>str</td><td>str</td><td>str</td><td>str</td><td>str</td><td>str</td><td>str</td><td>str</td><td>str</td><td>str</td><td>str</td><td>str</td><td>str</td><td>str</td><td>str</td><td>str</td><td>str</td><td>str</td><td>str</td><td>str</td></tr></thead><tbody><tr><td>&quot;2022&quot;</td><td>&quot;4061520221505841534&quot;</td><td>&quot;r0014256510 &quot;</td><td>&quot;DILLARD, DANIEL&quot;</td><td>&quot;C00000935&quot;</td><td>&quot;[24T Contribution]&quot;</td><td>&quot;&quot;</td><td>&quot;Z9500&quot;</td><td>&quot;08/29/2021&quot;</td><td>&quot;35&quot;</td><td>&quot;&quot;</td><td>&quot;HIDALGO&quot;</td><td>&quot;TX&quot;</td><td>&quot;78557&quot;</td><td>&quot;DP&quot;</td><td>&quot;24T&quot;</td><td>&quot;C00401224&quot;</td><td>&quot;C00000935&quot;</td><td>&quot;M&quot;</td><td>&quot;202205149504021121&quot;</td><td>&quot;NOT EMPLOYED&quot;</td><td>&quot;NOT EMPLOYED&quot;</td><td>&quot;Rept &quot;</td></tr><tr><td>&quot;2022&quot;</td><td>&quot;4061520221505841535&quot;</td><td>&quot;r0015503614 &quot;</td><td>&quot;WHITE, SCOTTO&quot;</td><td>&quot;C00633404&quot;</td><td>&quot;[24T Contribution]&quot;</td><td>&quot;&quot;</td><td>&quot;Z9500&quot;</td><td>&quot;08/29/2021&quot;</td><td>&quot;15&quot;</td><td>&quot;&quot;</td><td>&quot;YONKERS&quot;</td><td>&quot;NY&quot;</td><td>&quot;10701&quot;</td><td>&quot;PI&quot;</td><td>&quot;24T&quot;</td><td>&quot;C00401224&quot;</td><td>&quot;C00633404&quot;</td><td>&quot;M&quot;</td><td>&quot;202205149507911003&quot;</td><td>&quot;NOT EMPLOYED&quot;</td><td>&quot;NOT EMPLOYED&quot;</td><td>&quot;Rept &quot;</td></tr><tr><td>&quot;2022&quot;</td><td>&quot;4061520221505841536&quot;</td><td>&quot;p0003861308 &quot;</td><td>&quot;DOMINGUEZ, SALLIE&quot;</td><td>&quot;C00632398&quot;</td><td>&quot;[24T Contribution]&quot;</td><td>&quot;&quot;</td><td>&quot;Z9500&quot;</td><td>&quot;08/29/2021&quot;</td><td>&quot;10&quot;</td><td>&quot;&quot;</td><td>&quot;CAMPBELL&quot;</td><td>&quot;CA&quot;</td><td>&quot;95011&quot;</td><td>&quot;PI&quot;</td><td>&quot;24T&quot;</td><td>&quot;C00401224&quot;</td><td>&quot;C00632398&quot;</td><td>&quot;F&quot;</td><td>&quot;202205149504046504&quot;</td><td>&quot;HEALTHCARE&quot;</td><td>&quot;MCDONALD FAMILY DENTAL&quot;</td><td>&quot;Rept &quot;</td></tr><tr><td>&quot;2022&quot;</td><td>&quot;4061520221505841543&quot;</td><td>&quot;p0003689535 &quot;</td><td>&quot;BRADLEY, JANNETTE&quot;</td><td>&quot;C00678839&quot;</td><td>&quot;[24T Contribution]&quot;</td><td>&quot;&quot;</td><td>&quot;Z9500&quot;</td><td>&quot;08/29/2021&quot;</td><td>&quot;26&quot;</td><td>&quot;&quot;</td><td>&quot;OAK LAWN&quot;</td><td>&quot;IL&quot;</td><td>&quot;60453&quot;</td><td>&quot;PI&quot;</td><td>&quot;24T&quot;</td><td>&quot;C00401224&quot;</td><td>&quot;C00678839&quot;</td><td>&quot;F&quot;</td><td>&quot;202205149503347140&quot;</td><td>&quot;LIBRARIAN&quot;</td><td>&quot;MEDICAL CENTER&quot;</td><td>&quot;Rept &quot;</td></tr><tr><td>&quot;2022&quot;</td><td>&quot;4061520221505841545&quot;</td><td>&quot;q0002181378 &quot;</td><td>&quot;BHATT, TANYA&quot;</td><td>&quot;C00580068&quot;</td><td>&quot;[24T Contribution]&quot;</td><td>&quot;&quot;</td><td>&quot;Z9500&quot;</td><td>&quot;08/29/2021&quot;</td><td>&quot;50&quot;</td><td>&quot;&quot;</td><td>&quot;MIAMI BEACH&quot;</td><td>&quot;FL&quot;</td><td>&quot;33141&quot;</td><td>&quot;PI&quot;</td><td>&quot;24T&quot;</td><td>&quot;C00401224&quot;</td><td>&quot;C00580068&quot;</td><td>&quot;F&quot;</td><td>&quot;202205149503225635&quot;</td><td>&quot;MKTG&quot;</td><td>&quot;FRYE FINANCIAL&quot;</td><td>&quot;Rept &quot;</td></tr><tr><td>&hellip;</td><td>&hellip;</td><td>&hellip;</td><td>&hellip;</td><td>&hellip;</td><td>&hellip;</td><td>&hellip;</td><td>&hellip;</td><td>&hellip;</td><td>&hellip;</td><td>&hellip;</td><td>&hellip;</td><td>&hellip;</td><td>&hellip;</td><td>&hellip;</td><td>&hellip;</td><td>&hellip;</td><td>&hellip;</td><td>&hellip;</td><td>&hellip;</td><td>&hellip;</td><td>&hellip;</td><td>&hellip;</td></tr><tr><td>&quot;2022&quot;</td><td>&quot;4021120221407214496&quot;</td><td>&quot;r0013324307 &quot;</td><td>&quot;STUART, CHARLES&quot;</td><td>&quot;C00000935&quot;</td><td>&quot;Accor Hotels&quot;</td><td>&quot;&quot;</td><td>&quot;T9100&quot;</td><td>&quot;10/31/2021&quot;</td><td>&quot;15&quot;</td><td>&quot;&quot;</td><td>&quot;SAN DIEGO&quot;</td><td>&quot;CA&quot;</td><td>&quot;92130&quot;</td><td>&quot;DP&quot;</td><td>&quot;15E&quot;</td><td>&quot;C00000935&quot;</td><td>null</td><td>&quot;M&quot;</td><td>&quot;202202029491555830&quot;</td><td>&quot;HOTELIER&quot;</td><td>&quot;ACCOR HOTELS&quot;</td><td>&quot;Name &quot;</td></tr><tr><td>&quot;2022&quot;</td><td>&quot;4021120221407214497&quot;</td><td>&quot;p0004566720 &quot;</td><td>&quot;STUART, DAVID&quot;</td><td>&quot;C00000935&quot;</td><td>&quot;Food &amp; Nutrient Impact LLC&quot;</td><td>&quot;&quot;</td><td>&quot;Y4000&quot;</td><td>&quot;10/12/2021&quot;</td><td>&quot;50&quot;</td><td>&quot;&quot;</td><td>&quot;HERSHEY&quot;</td><td>&quot;PA&quot;</td><td>&quot;17033&quot;</td><td>&quot;DP&quot;</td><td>&quot;15 &quot;</td><td>&quot;C00000935&quot;</td><td>null</td><td>&quot;M&quot;</td><td>&quot;202202029491555830&quot;</td><td>&quot;CONSULTANT&quot;</td><td>&quot;FOOD &amp; NUTRIENT IMPACT LLC&quot;</td><td>&quot;     &quot;</td></tr><tr><td>&quot;2022&quot;</td><td>&quot;4021120221407214498&quot;</td><td>&quot;q0001147584 &quot;</td><td>&quot;STUART, JANET&quot;</td><td>&quot;C00000935&quot;</td><td>&quot;General Motors&quot;</td><td>&quot;&quot;</td><td>&quot;T2100&quot;</td><td>&quot;10/17/2021&quot;</td><td>&quot;25&quot;</td><td>&quot;&quot;</td><td>&quot;GRAND RAPIDS&quot;</td><td>&quot;MI&quot;</td><td>&quot;49506&quot;</td><td>&quot;DP&quot;</td><td>&quot;15E&quot;</td><td>&quot;C00000935&quot;</td><td>null</td><td>&quot;F&quot;</td><td>&quot;202202029491555830&quot;</td><td>&quot;INDIRECT MATERIAL BUYER&quot;</td><td>&quot;GENERAL MOTORS CORP.&quot;</td><td>&quot;PAC  &quot;</td></tr><tr><td>&quot;2022&quot;</td><td>&quot;4021120221407214499&quot;</td><td>&quot;q0001147584 &quot;</td><td>&quot;STUART, JANET&quot;</td><td>&quot;C00000935&quot;</td><td>&quot;General Motors&quot;</td><td>&quot;&quot;</td><td>&quot;T2100&quot;</td><td>&quot;10/25/2021&quot;</td><td>&quot;50&quot;</td><td>&quot;&quot;</td><td>&quot;GRAND RAPIDS&quot;</td><td>&quot;MI&quot;</td><td>&quot;49506&quot;</td><td>&quot;DP&quot;</td><td>&quot;15E&quot;</td><td>&quot;C00000935&quot;</td><td>null</td><td>&quot;F&quot;</td><td>&quot;202202029491555831&quot;</td><td>&quot;INDIRECT MATERIAL BUYER&quot;</td><td>&quot;GENERAL MOTORS CORP.&quot;</td><td>&quot;PAC  &quot;</td></tr><tr><td>&quot;2022&quot;</td><td>&quot;4021120221407214500&quot;</td><td>&quot;q0001147584 &quot;</td><td>&quot;STUART, JANET&quot;</td><td>&quot;C00000935&quot;</td><td>&quot;General Motors&quot;</td><td>&quot;&quot;</td><td>&quot;T2100&quot;</td><td>&quot;10/31/2021&quot;</td><td>&quot;25&quot;</td><td>&quot;&quot;</td><td>&quot;GRAND RAPIDS&quot;</td><td>&quot;MI&quot;</td><td>&quot;49506&quot;</td><td>&quot;DP&quot;</td><td>&quot;15E&quot;</td><td>&quot;C00000935&quot;</td><td>null</td><td>&quot;F&quot;</td><td>&quot;202202029491555831&quot;</td><td>&quot;INDIRECT MATERIAL BUYER&quot;</td><td>&quot;GENERAL MOTORS CORP.&quot;</td><td>&quot;PAC  &quot;</td></tr></tbody></table></div>"
      ],
      "text/plain": [
       "shape: (66_122_638, 23)\n",
       "┌──────┬─────────────┬────────────┬────────────┬───┬────────────┬────────────┬────────────┬────────┐\n",
       "│ Cyle ┆ FECTransID  ┆ ContribID  ┆ Contrib    ┆ … ┆ Microfilm  ┆ Occupation ┆ Employer   ┆ Source │\n",
       "│ ---  ┆ ---         ┆ ---        ┆ ---        ┆   ┆ ---        ┆ ---        ┆ ---        ┆ ---    │\n",
       "│ str  ┆ str         ┆ str        ┆ str        ┆   ┆ str        ┆ str        ┆ str        ┆ str    │\n",
       "╞══════╪═════════════╪════════════╪════════════╪═══╪════════════╪════════════╪════════════╪════════╡\n",
       "│ 2022 ┆ 40615202215 ┆ r001425651 ┆ DILLARD,   ┆ … ┆ 2022051495 ┆ NOT        ┆ NOT        ┆ Rept   │\n",
       "│      ┆ 05841534    ┆ 0          ┆ DANIEL     ┆   ┆ 04021121   ┆ EMPLOYED   ┆ EMPLOYED   ┆        │\n",
       "│ 2022 ┆ 40615202215 ┆ r001550361 ┆ WHITE,     ┆ … ┆ 2022051495 ┆ NOT        ┆ NOT        ┆ Rept   │\n",
       "│      ┆ 05841535    ┆ 4          ┆ SCOTTO     ┆   ┆ 07911003   ┆ EMPLOYED   ┆ EMPLOYED   ┆        │\n",
       "│ 2022 ┆ 40615202215 ┆ p000386130 ┆ DOMINGUEZ, ┆ … ┆ 2022051495 ┆ HEALTHCARE ┆ MCDONALD   ┆ Rept   │\n",
       "│      ┆ 05841536    ┆ 8          ┆ SALLIE     ┆   ┆ 04046504   ┆            ┆ FAMILY     ┆        │\n",
       "│      ┆             ┆            ┆            ┆   ┆            ┆            ┆ DENTAL     ┆        │\n",
       "│ 2022 ┆ 40615202215 ┆ p000368953 ┆ BRADLEY,   ┆ … ┆ 2022051495 ┆ LIBRARIAN  ┆ MEDICAL    ┆ Rept   │\n",
       "│      ┆ 05841543    ┆ 5          ┆ JANNETTE   ┆   ┆ 03347140   ┆            ┆ CENTER     ┆        │\n",
       "│ 2022 ┆ 40615202215 ┆ q000218137 ┆ BHATT,     ┆ … ┆ 2022051495 ┆ MKTG       ┆ FRYE       ┆ Rept   │\n",
       "│      ┆ 05841545    ┆ 8          ┆ TANYA      ┆   ┆ 03225635   ┆            ┆ FINANCIAL  ┆        │\n",
       "│ …    ┆ …           ┆ …          ┆ …          ┆ … ┆ …          ┆ …          ┆ …          ┆ …      │\n",
       "│ 2022 ┆ 40211202214 ┆ r001332430 ┆ STUART,    ┆ … ┆ 2022020294 ┆ HOTELIER   ┆ ACCOR      ┆ Name   │\n",
       "│      ┆ 07214496    ┆ 7          ┆ CHARLES    ┆   ┆ 91555830   ┆            ┆ HOTELS     ┆        │\n",
       "│ 2022 ┆ 40211202214 ┆ p000456672 ┆ STUART,    ┆ … ┆ 2022020294 ┆ CONSULTANT ┆ FOOD &     ┆        │\n",
       "│      ┆ 07214497    ┆ 0          ┆ DAVID      ┆   ┆ 91555830   ┆            ┆ NUTRIENT   ┆        │\n",
       "│      ┆             ┆            ┆            ┆   ┆            ┆            ┆ IMPACT LLC ┆        │\n",
       "│ 2022 ┆ 40211202214 ┆ q000114758 ┆ STUART,    ┆ … ┆ 2022020294 ┆ INDIRECT   ┆ GENERAL    ┆ PAC    │\n",
       "│      ┆ 07214498    ┆ 4          ┆ JANET      ┆   ┆ 91555830   ┆ MATERIAL   ┆ MOTORS     ┆        │\n",
       "│      ┆             ┆            ┆            ┆   ┆            ┆ BUYER      ┆ CORP.      ┆        │\n",
       "│ 2022 ┆ 40211202214 ┆ q000114758 ┆ STUART,    ┆ … ┆ 2022020294 ┆ INDIRECT   ┆ GENERAL    ┆ PAC    │\n",
       "│      ┆ 07214499    ┆ 4          ┆ JANET      ┆   ┆ 91555831   ┆ MATERIAL   ┆ MOTORS     ┆        │\n",
       "│      ┆             ┆            ┆            ┆   ┆            ┆ BUYER      ┆ CORP.      ┆        │\n",
       "│ 2022 ┆ 40211202214 ┆ q000114758 ┆ STUART,    ┆ … ┆ 2022020294 ┆ INDIRECT   ┆ GENERAL    ┆ PAC    │\n",
       "│      ┆ 07214500    ┆ 4          ┆ JANET      ┆   ┆ 91555831   ┆ MATERIAL   ┆ MOTORS     ┆        │\n",
       "│      ┆             ┆            ┆            ┆   ┆            ┆ BUYER      ┆ CORP.      ┆        │\n",
       "└──────┴─────────────┴────────────┴────────────┴───┴────────────┴────────────┴────────────┴────────┘"
      ]
     },
     "execution_count": 72,
     "metadata": {},
     "output_type": "execute_result"
    }
   ],
   "source": [
    "import polars as pl\n",
    "\n",
    "\n",
    "# Adjust the file path and parameters as needed\n",
    "df = pl.scan_csv('/Users/eartheconomics/Downloads/CampaignFin22/indivs22.txt', ignore_errors=True, quote_char='|', has_header=False, new_columns=\n",
    "        ['Cyle', 'FECTransID', 'ContribID', 'Contrib', 'RecipID',\n",
    "         'Orgname', 'UltOrg', 'RealCode', 'Date', 'Amount','Street', \n",
    "         'City', 'State', 'Zip', 'RecipCode','Type', 'CmteID', 'OtherID', \n",
    "         'Gender', 'Microfilm','Occupation', 'Employer', 'Source'],infer_schema_length=0,).collect()\n",
    "df\n",
    "\n",
    "\n"
   ]
  },
  {
   "cell_type": "code",
   "execution_count": 85,
   "id": "6c8b6584-44a9-4070-8ea1-0830317a0315",
   "metadata": {},
   "outputs": [],
   "source": [
    "df.write_csv('2022Con.csv')"
   ]
  },
  {
   "cell_type": "code",
   "execution_count": 84,
   "id": "4e7fb34c-e52d-4f26-a595-b44d6161e287",
   "metadata": {},
   "outputs": [
    {
     "ename": "AttributeError",
     "evalue": "module 'polars' has no attribute 'DataFram'",
     "output_type": "error",
     "traceback": [
      "\u001b[0;31m---------------------------------------------------------------------------\u001b[0m",
      "\u001b[0;31mAttributeError\u001b[0m                            Traceback (most recent call last)",
      "Cell \u001b[0;32mIn[84], line 1\u001b[0m\n\u001b[0;32m----> 1\u001b[0m pl\u001b[38;5;241m.\u001b[39mDataFram(df)\u001b[38;5;241m.\u001b[39mto_pandas()\u001b[38;5;241m.\u001b[39mto_csv(\u001b[38;5;124m'\u001b[39m\u001b[38;5;124mout_file.csv.gz\u001b[39m\u001b[38;5;124m'\u001b[39m, compression\u001b[38;5;241m=\u001b[39m\u001b[38;5;124m'\u001b[39m\u001b[38;5;124mgzip\u001b[39m\u001b[38;5;124m'\u001b[39m)\n",
      "\u001b[0;31mAttributeError\u001b[0m: module 'polars' has no attribute 'DataFram'"
     ]
    }
   ],
   "source": []
  },
  {
   "cell_type": "code",
   "execution_count": null,
   "id": "7815d1ac-26df-411a-b667-e6dd1b0fbe90",
   "metadata": {},
   "outputs": [],
   "source": []
  }
 ],
 "metadata": {
  "kernelspec": {
   "display_name": "Python 3 (ipykernel)",
   "language": "python",
   "name": "python3"
  },
  "language_info": {
   "codemirror_mode": {
    "name": "ipython",
    "version": 3
   },
   "file_extension": ".py",
   "mimetype": "text/x-python",
   "name": "python",
   "nbconvert_exporter": "python",
   "pygments_lexer": "ipython3",
   "version": "3.11.7"
  }
 },
 "nbformat": 4,
 "nbformat_minor": 5
}
