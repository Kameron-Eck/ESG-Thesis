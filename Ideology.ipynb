{
 "cells": [
  {
   "metadata": {
    "ExecuteTime": {
     "end_time": "2024-08-16T17:36:14.259281Z",
     "start_time": "2024-08-16T17:31:17.348473Z"
    }
   },
   "cell_type": "code",
   "source": [
    "import pandas as pd\n",
    "\n",
    "file_path = 'C:\\\\Users\\\\Kameron\\\\Documents\\\\ESG Thesis\\\\Data\\\\Corporate Ideology\\\\dime.gz'\n",
    "\n",
    "# Specify the data types for each column\n",
    "dtype_specification = {\n",
    "    \"bonica.cid\": \"float64\",  # Changed to float64 to handle NaN values\n",
    "    \"contributor.type\": \"object\",\n",
    "    \"num.distinct\": \"float64\",  # Changed to float64 to handle NaN values\n",
    "    \"most.recent.contributor.name\": \"object\",\n",
    "    \"most.recent.contributor.address\": \"object\",\n",
    "    \"most.recent.contributor.city\": \"object\",\n",
    "    \"most.recent.contributor.zipcode\": \"float64\",  # Changed to float64 to handle NaN values\n",
    "    \"most.recent.contributor.state\": \"object\",\n",
    "    \"most.recent.contributor.latitude\": \"float64\",\n",
    "    \"most.recent.contributor.longitude\": \"float64\",\n",
    "    \"most.recent.contributor.occupation\": \"object\",\n",
    "    \"most.recent.contributor.employer\": \"object\",\n",
    "    \"most.recent.transaction.id\": \"object\",\n",
    "    \"most.recent.transaction.date\": \"object\",\n",
    "    \"contributor.gender\": \"object\",\n",
    "    \"is.corp\": \"object\",\n",
    "    \"contributor.cfscore\": \"float64\",\n",
    "    \"is.projected\": \"int64\",\n",
    "    \"first_cycle_active\": \"int64\",\n",
    "    \"last_cycle_active\": \"int64\",\n",
    "}\n",
    "\n",
    "# Specify the data types for all amount columns (1980-2022)\n",
    "for year in range(1980, 2024, 2):\n",
    "    dtype_specification[f\"amount.{year}\"] = \"float64\"  # Changed to float64 to handle NaN values\n",
    "\n",
    "# Read the CSV file with the specified dtypes\n",
    "data = pd.read_csv(file_path, \n",
    "                   compression='gzip', \n",
    "                   encoding='latin-1',\n",
    "                   dtype=dtype_specification)\n",
    "\n",
    "\n",
    "# Similarly, you can do this for other columns if you need them as integers without NaNs\n"
   ],
   "id": "734617f1bca58e50",
   "outputs": [],
   "execution_count": 3
  },
  {
   "metadata": {
    "ExecuteTime": {
     "end_time": "2024-08-16T17:36:15.148734Z",
     "start_time": "2024-08-16T17:36:14.274926Z"
    }
   },
   "cell_type": "code",
   "source": [
    "unique_values = data['is.corp'].unique()\n",
    "\n",
    "# Display the unique values\n",
    "print(unique_values)"
   ],
   "id": "3031eae162623adc",
   "outputs": [
    {
     "name": "stdout",
     "output_type": "stream",
     "text": [
      "[nan 'corp' 'union']\n"
     ]
    }
   ],
   "execution_count": 4
  },
  {
   "metadata": {
    "ExecuteTime": {
     "end_time": "2024-08-16T18:24:22.090898Z",
     "start_time": "2024-08-16T18:24:03.644457Z"
    }
   },
   "cell_type": "code",
   "source": [
    "# DataFrame where 'is.corp' is 'union'\n",
    "corps = data[data['contributor.type'] == 'C']\n",
    "\n",
    "# DataFrame where 'is.corp' is 'corp'\n",
    "execs = data[data['contributor.type'] == 'I']"
   ],
   "id": "2e1309580bff4de1",
   "outputs": [],
   "execution_count": 13
  },
  {
   "metadata": {
    "ExecuteTime": {
     "start_time": "2024-08-17T19:12:39.889035Z"
    }
   },
   "cell_type": "code",
   "source": [
    "import pandas as pd\n",
    "\n",
    "# Define the path to the CSV file\n",
    "file_path = r'C:\\Users\\Kameron\\Documents\\ESG Thesis\\Data\\Political_Contributions\\indivss.csv'\n",
    "\n",
    "# Specify the data types for the columns\n",
    "data_types = {\n",
    "    \"Cycle\": str,\n",
    "    \"FECTransID\": str,\n",
    "    \"ContribID\": str,\n",
    "    \"Contrib\": str,\n",
    "    \"RecipID\": str,\n",
    "    \"Orgname\": str,\n",
    "    \"UltOrg\": str,\n",
    "    \"RealCode\": str,\n",
    "    \"Date\": str,\n",
    "    \"Amount\": 'int64',\n",
    "    \"Street\": str,\n",
    "    \"City\": str,\n",
    "    \"State\": str,\n",
    "    \"Zip\": str,\n",
    "    \"RecipCode\": str,\n",
    "    \"Type\": str,\n",
    "    \"CmteID\": str,\n",
    "    \"OtherID\": str,\n",
    "    \"Gender\": str,\n",
    "    \"Microfilm\": str,\n",
    "    \"Occupation\": str,\n",
    "    \"Employer\": str,\n",
    "    \"Source\": str\n",
    "}\n",
    "\n",
    "# Set the batch size for chunksize\n"
   ],
   "id": "6ad586e957bec5ff",
   "outputs": [],
   "execution_count": null
  },
  {
   "metadata": {
    "ExecuteTime": {
     "end_time": "2024-08-18T00:21:20.655604Z",
     "start_time": "2024-08-18T00:16:10.045758Z"
    }
   },
   "cell_type": "code",
   "source": [
    "import pandas as pd\n",
    "\n",
    "\n",
    "# Define the path to your file\n",
    "file_path = r'C:\\Users\\Kameron\\Documents\\ESG Thesis\\Data\\Political_Contributions\\indivss.csv'\n",
    "\n",
    "columns_to_use = ['Zip', 'City', 'State', 'Gender', 'Employer', 'Street', 'UltOrg', 'Orgname', 'Contrib']\n",
    "\n",
    "df = pd.read_csv(\n",
    "    file_path,\n",
    "    usecols=columns_to_use,\n",
    "    dtype={\n",
    "        'Zip': str,\n",
    "        'City': str,\n",
    "        'State': str,\n",
    "        'Gender': str,\n",
    "        'Employer': str,\n",
    "        'Street': str,\n",
    "        'UltOrg': str,\n",
    "        'Orgname': str,\n",
    "        'Contrib': str\n",
    "    }\n",
    ")\n",
    "\n",
    "# Convert column names to lowercase\n",
    "df.columns = df.columns.str.lower()\n",
    "\n",
    "# Apply lowercase conversion only to columns with string data (object dtype)\n",
    "for column in df.select_dtypes(include='object').columns:\n",
    "    df[column] = df[column].str.lower()\n",
    "    \n",
    "regex_pattern = r'([^,]+),\\s*([^ ]+)\\s+(\\w)'\n",
    "\n",
    "# Extract the components into new columns\n",
    "df[['last', 'first', 'middle']] = df['contrib'].str.extract(regex_pattern, expand=True)"
   ],
   "id": "8af85744a8af8c49",
   "outputs": [],
   "execution_count": 1
  },
  {
   "metadata": {
    "ExecuteTime": {
     "end_time": "2024-08-20T20:44:51.446659Z",
     "start_time": "2024-08-20T20:43:46.901019Z"
    }
   },
   "cell_type": "code",
   "source": [
    "import polars as pl\n",
    "\n",
    "# Define the path to your file\n",
    "file_path = r'C:\\Users\\Kameron\\Documents\\ESG Thesis\\Data\\Political_Contributions\\indivss.csv'\n",
    "\n",
    "columns_to_use = ['Zip', 'City', 'State', 'Gender', 'Employer', 'Street', 'UltOrg', 'Orgname', 'Contrib']\n",
    "\n",
    "# Load the data with the specific columns and datatypes\n",
    "df = pl.read_csv(\n",
    "    file_path,\n",
    "    columns=columns_to_use,\n",
    "    schema_overrides={\n",
    "        'Zip': pl.Utf8,\n",
    "        'City': pl.Utf8,\n",
    "        'State': pl.Utf8,\n",
    "        'Gender': pl.Utf8,\n",
    "        'Employer': pl.Utf8,\n",
    "        'UltOrg': pl.Utf8,\n",
    "        'Orgname': pl.Utf8,\n",
    "        'Contrib': pl.Utf8\n",
    "    }\n",
    ")\n",
    "\n",
    "# Convert column names to lowercase\n",
    "df = df.rename({col: col.lower() for col in df.columns})\n",
    "\n",
    "# Apply lowercase conversion only to columns with string data\n",
    "string_columns = [col for col, dtype in df.schema.items() if dtype == pl.Utf8]\n",
    "df = df.with_columns(\n",
    "    [pl.col(column).str.to_lowercase().alias(column) for column in string_columns]\n",
    ")\n",
    "\n",
    "# Regex pattern for capturing the last name\n",
    "regex_last = r'([^,]+)'\n",
    "\n",
    "# Extract last name and update DataFrame\n",
    "df = df.with_columns([\n",
    "    pl.col(\"contrib\").str.extract(regex_last, group_index=1).alias(\"last\")\n",
    "])\n",
    "\n",
    "# Regex pattern for capturing the middle initial\n",
    "regex_middle = r'\\b([A-Za-z])\\b\\s*$'\n",
    "\n",
    "# Extract middle initial and update DataFrame\n",
    "df = df.with_columns([\n",
    "    pl.col(\"contrib\").str.extract(regex_middle, group_index=1).alias(\"middle\")\n",
    "])\n",
    "\n",
    "# Regex pattern for capturing the first name\n",
    "regex_first = r',\\s+([A-Za-z\\s]+)'\n",
    "\n",
    "# Extract first name and update DataFrame\n",
    "df = df.with_columns([\n",
    "    pl.col(\"contrib\").str.extract(regex_first, group_index=1).alias(\"first\")\n",
    "])\n",
    "\n",
    "df = df.with_columns(\n",
    "    pl.col(\"first\").str.replace(r\"(\\s+[A-Za-z]\\.?)\\s*$\", \"\").alias(\"first\")\n",
    ")"
   ],
   "id": "1b4af938320dacd6",
   "outputs": [],
   "execution_count": 1
  },
  {
   "metadata": {
    "ExecuteTime": {
     "end_time": "2024-08-20T20:45:00.400346Z",
     "start_time": "2024-08-20T20:44:51.455195Z"
    }
   },
   "cell_type": "code",
   "source": [
    "# Concatenate first, middle, and last names into a new column 'full'\n",
    "# Handling None values using `when` and `then` clauses\n",
    "df = df.with_columns(\n",
    "    pl.when(pl.col(\"middle\").is_not_null())\n",
    "    .then(pl.col(\"first\") + pl.col(\"middle\") + pl.col(\"last\"))\n",
    "    .otherwise(pl.col(\"first\") + pl.col(\"last\"))\n",
    "    .alias(\"full\")\n",
    ")\n",
    "\n",
    "# Function to remove all non-alphabetical characters including spaces\n",
    "def remove_all_non_alpha(col):\n",
    "    return col.str.replace(\"[^a-zA-Z]\", \"\")\n",
    "\n",
    "# Apply the function to remove non-alphabetical characters from all relevant columns\n",
    "df = df.with_columns([\n",
    "    remove_all_non_alpha(pl.col(\"first\")).alias(\"first\"),\n",
    "    remove_all_non_alpha(pl.col(\"middle\")).alias(\"middle\"),\n",
    "    remove_all_non_alpha(pl.col(\"last\")).alias(\"last\"),\n",
    "    remove_all_non_alpha(pl.col(\"full\")).alias(\"full\"),\n",
    "])"
   ],
   "id": "34c81af836426eaf",
   "outputs": [],
   "execution_count": 2
  },
  {
   "metadata": {
    "ExecuteTime": {
     "end_time": "2024-08-20T20:46:23.687336Z",
     "start_time": "2024-08-20T20:46:10.637654Z"
    }
   },
   "cell_type": "code",
   "source": [
    "def remove_all_non_spaces(col):\n",
    "    return col.str.replace(\"[^a-zA-Z0-9_]\", \"\")\n",
    "\n",
    "df = df.with_columns([\n",
    "    remove_all_non_spaces(pl.col(\"employer\")).alias(\"employer\"),\n",
    "    remove_all_non_spaces(pl.col(\"zip\")).alias(\"zip\"),\n",
    "    remove_all_non_spaces(pl.col(\"city\")).alias(\"city\"),\n",
    "    remove_all_non_spaces(pl.col(\"ultorg\")).alias(\"ultorg\"),\n",
    "    remove_all_non_spaces(pl.col(\"orgname\")).alias(\"orgname\")])"
   ],
   "id": "d3ac6b5423c1399f",
   "outputs": [],
   "execution_count": 4
  },
  {
   "metadata": {
    "ExecuteTime": {
     "end_time": "2024-08-20T20:46:24.488651Z",
     "start_time": "2024-08-20T20:46:23.687336Z"
    }
   },
   "cell_type": "code",
   "source": [
    "# Add a unique_id column starting at 1\n",
    "df = df.with_columns([\n",
    "    pl.arange(1, df.height + 1).alias(\"unique_id\")\n",
    "])"
   ],
   "id": "bef6ea72568ed9ee",
   "outputs": [],
   "execution_count": 5
  },
  {
   "metadata": {
    "ExecuteTime": {
     "end_time": "2024-08-20T20:46:28.131541Z",
     "start_time": "2024-08-20T20:46:28.111923Z"
    }
   },
   "cell_type": "code",
   "source": "df",
   "id": "b5150791126df269",
   "outputs": [
    {
     "data": {
      "text/plain": [
       "shape: (145_819_554, 14)\n",
       "┌─────────────┬─────────────┬────────────┬────────┬───┬────────┬──────────┬────────────┬───────────┐\n",
       "│ contrib     ┆ orgname     ┆ ultorg     ┆ street ┆ … ┆ middle ┆ first    ┆ full       ┆ unique_id │\n",
       "│ ---         ┆ ---         ┆ ---        ┆ ---    ┆   ┆ ---    ┆ ---      ┆ ---        ┆ ---       │\n",
       "│ str         ┆ str         ┆ str        ┆ str    ┆   ┆ str    ┆ str      ┆ str        ┆ i64       │\n",
       "╞═════════════╪═════════════╪════════════╪════════╪═══╪════════╪══════════╪════════════╪═══════════╡\n",
       "│ diener,     ┆ hotelscom   ┆ null       ┆ null   ┆ … ┆ null   ┆ michelle ┆ michelledi ┆ 1         │\n",
       "│ michelle    ┆             ┆            ┆        ┆   ┆        ┆          ┆ ener       ┆           │\n",
       "│ freedman,   ┆ consultant  ┆ null       ┆ null   ┆ … ┆ null   ┆ joel     ┆ joelfreedm ┆ 2         │\n",
       "│ joel        ┆             ┆            ┆        ┆   ┆        ┆          ┆ an         ┆           │\n",
       "│ golden,     ┆ citywidemob ┆ null       ┆ null   ┆ … ┆ s      ┆ warren   ┆ warrensgol ┆ 3         │\n",
       "│ warren s    ┆ ile         ┆            ┆        ┆   ┆        ┆          ┆ den        ┆           │\n",
       "│             ┆ response    ┆            ┆        ┆   ┆        ┆          ┆            ┆           │\n",
       "│ koch, larry ┆ deloitte&   ┆ deloittell ┆ null   ┆ … ┆ j      ┆ larry    ┆ larryjkoch ┆ 4         │\n",
       "│ j           ┆ touche      ┆ p          ┆        ┆   ┆        ┆          ┆            ┆           │\n",
       "│ larson,     ┆ businessopt ┆ null       ┆ null   ┆ … ┆ null   ┆ sherry   ┆ sherrylars ┆ 5         │\n",
       "│ sherry      ┆ ions        ┆            ┆        ┆   ┆        ┆          ┆ on         ┆           │\n",
       "│ …           ┆ …           ┆ …          ┆ …      ┆ … ┆ …      ┆ …        ┆ …          ┆ …         │\n",
       "│ stuart,     ┆ accorhotels ┆ null       ┆ null   ┆ … ┆ null   ┆ charles  ┆ charlesstu ┆ 145819550 │\n",
       "│ charles     ┆             ┆            ┆        ┆   ┆        ┆          ┆ art        ┆           │\n",
       "│ stuart,     ┆ food&       ┆ null       ┆ null   ┆ … ┆ null   ┆ david    ┆ davidstuar ┆ 145819551 │\n",
       "│ david       ┆ nutrient    ┆            ┆        ┆   ┆        ┆          ┆ t          ┆           │\n",
       "│             ┆ impact llc  ┆            ┆        ┆   ┆        ┆          ┆            ┆           │\n",
       "│ stuart,     ┆ generalmoto ┆ null       ┆ null   ┆ … ┆ null   ┆ janet    ┆ janetstuar ┆ 145819552 │\n",
       "│ janet       ┆ rs          ┆            ┆        ┆   ┆        ┆          ┆ t          ┆           │\n",
       "│ stuart,     ┆ generalmoto ┆ null       ┆ null   ┆ … ┆ null   ┆ janet    ┆ janetstuar ┆ 145819553 │\n",
       "│ janet       ┆ rs          ┆            ┆        ┆   ┆        ┆          ┆ t          ┆           │\n",
       "│ stuart,     ┆ generalmoto ┆ null       ┆ null   ┆ … ┆ null   ┆ janet    ┆ janetstuar ┆ 145819554 │\n",
       "│ janet       ┆ rs          ┆            ┆        ┆   ┆        ┆          ┆ t          ┆           │\n",
       "└─────────────┴─────────────┴────────────┴────────┴───┴────────┴──────────┴────────────┴───────────┘"
      ],
      "text/html": [
       "<div><style>\n",
       ".dataframe > thead > tr,\n",
       ".dataframe > tbody > tr {\n",
       "  text-align: right;\n",
       "  white-space: pre-wrap;\n",
       "}\n",
       "</style>\n",
       "<small>shape: (145_819_554, 14)</small><table border=\"1\" class=\"dataframe\"><thead><tr><th>contrib</th><th>orgname</th><th>ultorg</th><th>street</th><th>city</th><th>state</th><th>zip</th><th>gender</th><th>employer</th><th>last</th><th>middle</th><th>first</th><th>full</th><th>unique_id</th></tr><tr><td>str</td><td>str</td><td>str</td><td>str</td><td>str</td><td>str</td><td>str</td><td>str</td><td>str</td><td>str</td><td>str</td><td>str</td><td>str</td><td>i64</td></tr></thead><tbody><tr><td>&quot;diener, michelle&quot;</td><td>&quot;hotelscom&quot;</td><td>null</td><td>null</td><td>&quot;surfside&quot;</td><td>&quot;ca&quot;</td><td>&quot;33154&quot;</td><td>&quot;f&quot;</td><td>null</td><td>&quot;diener&quot;</td><td>null</td><td>&quot;michelle&quot;</td><td>&quot;michellediener&quot;</td><td>1</td></tr><tr><td>&quot;freedman, joel&quot;</td><td>&quot;consultant&quot;</td><td>null</td><td>null</td><td>&quot;southglastonbury&quot;</td><td>&quot;ct&quot;</td><td>&quot;06073&quot;</td><td>&quot;m&quot;</td><td>&quot;selfemployed&quot;</td><td>&quot;freedman&quot;</td><td>null</td><td>&quot;joel&quot;</td><td>&quot;joelfreedman&quot;</td><td>2</td></tr><tr><td>&quot;golden, warren s&quot;</td><td>&quot;citywidemobile response&quot;</td><td>null</td><td>null</td><td>&quot;mahopac&quot;</td><td>&quot;ny&quot;</td><td>&quot;10541&quot;</td><td>&quot;m&quot;</td><td>&quot;citywidemobile response&quot;</td><td>&quot;golden&quot;</td><td>&quot;s&quot;</td><td>&quot;warren&quot;</td><td>&quot;warrensgolden&quot;</td><td>3</td></tr><tr><td>&quot;koch, larry j&quot;</td><td>&quot;deloitte&amp; touche&quot;</td><td>&quot;deloittellp&quot;</td><td>null</td><td>&quot;wilton&quot;</td><td>&quot;ct&quot;</td><td>&quot;06897&quot;</td><td>&quot;m&quot;</td><td>&quot;deloitte&amp; touche llp&quot;</td><td>&quot;koch&quot;</td><td>&quot;j&quot;</td><td>&quot;larry&quot;</td><td>&quot;larryjkoch&quot;</td><td>4</td></tr><tr><td>&quot;larson, sherry&quot;</td><td>&quot;businessoptions&quot;</td><td>null</td><td>null</td><td>&quot;montrose&quot;</td><td>&quot;co&quot;</td><td>&quot;81403&quot;</td><td>&quot;f&quot;</td><td>&quot;businessoptions&quot;</td><td>&quot;larson&quot;</td><td>null</td><td>&quot;sherry&quot;</td><td>&quot;sherrylarson&quot;</td><td>5</td></tr><tr><td>&hellip;</td><td>&hellip;</td><td>&hellip;</td><td>&hellip;</td><td>&hellip;</td><td>&hellip;</td><td>&hellip;</td><td>&hellip;</td><td>&hellip;</td><td>&hellip;</td><td>&hellip;</td><td>&hellip;</td><td>&hellip;</td><td>&hellip;</td></tr><tr><td>&quot;stuart, charles&quot;</td><td>&quot;accorhotels&quot;</td><td>null</td><td>null</td><td>&quot;sandiego&quot;</td><td>&quot;ca&quot;</td><td>&quot;92130&quot;</td><td>&quot;m&quot;</td><td>&quot;accorhotels&quot;</td><td>&quot;stuart&quot;</td><td>null</td><td>&quot;charles&quot;</td><td>&quot;charlesstuart&quot;</td><td>145819550</td></tr><tr><td>&quot;stuart, david&quot;</td><td>&quot;food&amp; nutrient impact llc&quot;</td><td>null</td><td>null</td><td>&quot;hershey&quot;</td><td>&quot;pa&quot;</td><td>&quot;17033&quot;</td><td>&quot;m&quot;</td><td>&quot;food&amp; nutrient impact llc&quot;</td><td>&quot;stuart&quot;</td><td>null</td><td>&quot;david&quot;</td><td>&quot;davidstuart&quot;</td><td>145819551</td></tr><tr><td>&quot;stuart, janet&quot;</td><td>&quot;generalmotors&quot;</td><td>null</td><td>null</td><td>&quot;grandrapids&quot;</td><td>&quot;mi&quot;</td><td>&quot;49506&quot;</td><td>&quot;f&quot;</td><td>&quot;generalmotors corp.&quot;</td><td>&quot;stuart&quot;</td><td>null</td><td>&quot;janet&quot;</td><td>&quot;janetstuart&quot;</td><td>145819552</td></tr><tr><td>&quot;stuart, janet&quot;</td><td>&quot;generalmotors&quot;</td><td>null</td><td>null</td><td>&quot;grandrapids&quot;</td><td>&quot;mi&quot;</td><td>&quot;49506&quot;</td><td>&quot;f&quot;</td><td>&quot;generalmotors corp.&quot;</td><td>&quot;stuart&quot;</td><td>null</td><td>&quot;janet&quot;</td><td>&quot;janetstuart&quot;</td><td>145819553</td></tr><tr><td>&quot;stuart, janet&quot;</td><td>&quot;generalmotors&quot;</td><td>null</td><td>null</td><td>&quot;grandrapids&quot;</td><td>&quot;mi&quot;</td><td>&quot;49506&quot;</td><td>&quot;f&quot;</td><td>&quot;generalmotors corp.&quot;</td><td>&quot;stuart&quot;</td><td>null</td><td>&quot;janet&quot;</td><td>&quot;janetstuart&quot;</td><td>145819554</td></tr></tbody></table></div>"
      ]
     },
     "execution_count": 6,
     "metadata": {},
     "output_type": "execute_result"
    }
   ],
   "execution_count": 6
  },
  {
   "metadata": {},
   "cell_type": "code",
   "outputs": [],
   "execution_count": null,
   "source": "",
   "id": "c78db23eacf2bd2"
  }
 ],
 "metadata": {
  "kernelspec": {
   "display_name": "Python 3",
   "language": "python",
   "name": "python3"
  },
  "language_info": {
   "codemirror_mode": {
    "name": "ipython",
    "version": 2
   },
   "file_extension": ".py",
   "mimetype": "text/x-python",
   "name": "python",
   "nbconvert_exporter": "python",
   "pygments_lexer": "ipython2",
   "version": "2.7.6"
  }
 },
 "nbformat": 4,
 "nbformat_minor": 5
}
